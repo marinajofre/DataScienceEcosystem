{
 "cells": [
  {
   "cell_type": "markdown",
   "metadata": {},
   "source": [
    "<center>\n",
    "    <img src=\"https://cf-courses-data.s3.us.cloud-object-storage.appdomain.cloud/IBMDeveloperSkillsNetwork-DS0105EN-SkillsNetwork/labs/Module2/images/SN_web_lightmode.png\" width=\"300\" alt=\"cognitiveclass.ai logo\">\n",
    "</center>\n"
   ]
  },
  {
   "cell_type": "markdown",
   "metadata": {},
   "source": [
    "#### Add your code below following the instructions given in the course\n"
   ]
  },
  {
   "cell_type": "markdown",
   "metadata": {},
   "source": [
    "# Data Science Tools and Ecosystem"
   ]
  },
  {
   "cell_type": "markdown",
   "metadata": {
    "tags": []
   },
   "source": [
    "##### In this notebook, Data Science Tools and Ecosystem are summarized."
   ]
  },
  {
   "cell_type": "markdown",
   "metadata": {},
   "source": [
    "## Objectives:\n",
    "\n",
    "Below are some of the objectives that were covered in this notebook:\n",
    "\n",
    "- List the popular programming languages for data science.\n",
    "- Describe some of the libraries commonly used by data scientists.\n",
    "- Present three open source tools used in data science.\n"
   ]
  },
  {
   "cell_type": "code",
   "execution_count": 5,
   "metadata": {
    "tags": []
   },
   "outputs": [
    {
     "name": "stdout",
     "output_type": "stream",
     "text": [
      "Some of the popular languages that Data Scientists use are:\n",
      "1. SQL\n",
      "2. Python\n",
      "3. R\n",
      "4. Java\n",
      "5. Julia\n",
      "6. Scala\n"
     ]
    }
   ],
   "source": [
    "print(\"Some of the popular languages that Data Scientists use are:\")\n",
    "list_languages = [\"SQL\", \"Python\", \"R\", \"Java\", \"Julia\", \"Scala\"]\n",
    "count = 1\n",
    "for elem in list_languages:\n",
    "    print(f\"{count}. {elem}\")\n",
    "    count += 1\n"
   ]
  },
  {
   "cell_type": "code",
   "execution_count": 6,
   "metadata": {
    "tags": []
   },
   "outputs": [
    {
     "name": "stdout",
     "output_type": "stream",
     "text": [
      "Some of the commonly used libraries used by Data Scientists include:\n",
      "1. NumPy\n",
      "2. Pandas\n",
      "3. Matplotlib\n",
      "4. Scikit-learn\n",
      "5. TensorFlow\n",
      "6. Keras\n",
      "7. PyTorch\n",
      "8. Seaborn\n"
     ]
    }
   ],
   "source": [
    "print(\"Some of the commonly used libraries used by Data Scientists include:\")\n",
    "list = ['NumPy', 'Pandas', 'Matplotlib', 'Scikit-learn', 'TensorFlow', 'Keras', 'PyTorch', 'Seaborn']\n",
    "count = 1\n",
    "for elem in list:\n",
    "    print(f\"{count}. {elem}\")\n",
    "    count += 1"
   ]
  },
  {
   "cell_type": "markdown",
   "metadata": {},
   "source": [
    "<table>\n",
    "  <thead>\n",
    "    <tr>\n",
    "      <th>Data Science Tools</th>\n",
    "    </tr>\n",
    "  </thead>\n",
    "  <tbody>\n",
    "    <tr>\n",
    "      <td>Jupyter Notebook</td>\n",
    "    </tr>\n",
    "       <tr>\n",
    "      <td>Spyder</td>\n",
    "    </tr>\n",
    "       <tr>\n",
    "      <td>RStudio</td>\n",
    "    </tr>\n",
    "\n",
    "  </tbody>\n",
    "</table>\n"
   ]
  },
  {
   "cell_type": "code",
   "execution_count": null,
   "metadata": {},
   "outputs": [],
   "source": []
  },
  {
   "cell_type": "markdown",
   "metadata": {},
   "source": [
    "### Below are a few examples of evaluating arithmetic expressions in Python"
   ]
  },
  {
   "cell_type": "code",
   "execution_count": 8,
   "metadata": {
    "tags": []
   },
   "outputs": [
    {
     "name": "stdout",
     "output_type": "stream",
     "text": [
      "17\n"
     ]
    }
   ],
   "source": [
    " ## This a simple arithmetic expression to mutiply then add integers\n",
    "i = (3*4) + 5\n",
    "print(i)"
   ]
  },
  {
   "cell_type": "code",
   "execution_count": 12,
   "metadata": {
    "tags": []
   },
   "outputs": [
    {
     "name": "stdout",
     "output_type": "stream",
     "text": [
      "200 minutes are: 3.33 hours\n"
     ]
    }
   ],
   "source": [
    "## This will convert 200 minutes to hours by diving by 60\n",
    "result = 200 / 60\n",
    "print(\"200 minutes are: \" + str(round(result, 2)) + \" hours\")"
   ]
  },
  {
   "cell_type": "markdown",
   "metadata": {},
   "source": [
    "## Author <br>  Marina Jofre Rodríguez"
   ]
  }
 ],
 "metadata": {
  "kernelspec": {
   "display_name": "Python",
   "language": "python",
   "name": "conda-env-python-py"
  },
  "language_info": {
   "codemirror_mode": {
    "name": "ipython",
    "version": 3
   },
   "file_extension": ".py",
   "mimetype": "text/x-python",
   "name": "python",
   "nbconvert_exporter": "python",
   "pygments_lexer": "ipython3",
   "version": "3.7.12"
  }
 },
 "nbformat": 4,
 "nbformat_minor": 4
}
